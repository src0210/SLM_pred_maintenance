{
 "cells": [
  {
   "cell_type": "code",
   "execution_count": 3,
   "id": "e3e89fac-c354-4aa0-8fbf-c5b29efd373e",
   "metadata": {},
   "outputs": [],
   "source": [
    "### Reading Data\n",
    "import numpy as np\n",
    "import pandas as pd\n",
    "\n",
    "train_data = pd.read_csv('train_selected.csv')\n",
    "test_data = pd.read_csv('test_selected.csv')\n",
    "\n",
    "# Load the true TTF values\n",
    "with open('PM_truth.txt', 'r') as file:\n",
    "    y_test_truth = [int(line.strip()) for line in file]\n",
    "    y_test_truth = np.array(y_test_truth)"
   ]
  },
  {
   "cell_type": "code",
   "execution_count": 4,
   "id": "8cf813c0-c95d-4a70-8297-00cca3fbfef7",
   "metadata": {},
   "outputs": [],
   "source": [
    "from sklearn.preprocessing import MinMaxScaler\n",
    "\n",
    "# Extract relevant columns\n",
    "train_features = train_data[['s1', 's2', 's3', 's4']]\n",
    "train_cycles = train_data['cycle']\n",
    "\n",
    "train_ttf = train_data['ttf']\n",
    "train_class_label = train_data['label_bnc']\n",
    "\n",
    "test_features = test_data[['s1', 's2', 's3', 's4']]\n",
    "test_cycles = test_data['cycle']\n",
    "\n",
    "# Normalize the sensor data using Min-Max Scaling\n",
    "scaler = MinMaxScaler()\n",
    "\n",
    "#transform both train and test data\n",
    "train_features_scaled = scaler.fit_transform(train_features)\n",
    "test_features_scaled = scaler.transform(test_features)\n",
    "\n",
    "# Convert back to DataFrames\n",
    "train_features_scaled = pd.DataFrame(train_features_scaled, columns=['s1', 's2', 's3', 's4'])\n",
    "test_features_scaled = pd.DataFrame(test_features_scaled, columns=['s1', 's2', 's3', 's4'])\n",
    "\n",
    "# Combine the scaled features back with other relevant data\n",
    "train_preprocessed = pd.concat([train_data['id'], train_cycles, train_features_scaled, train_ttf, train_class_label], axis=1)\n",
    "test_preprocessed = pd.concat([test_data['id'], test_cycles, test_features_scaled], axis=1)\n"
   ]
  },
  {
   "cell_type": "code",
   "execution_count": 6,
   "id": "210badd7-1e9f-4d0b-9757-dfcec6f0cf74",
   "metadata": {},
   "outputs": [],
   "source": [
    "# Creating test classification labels\n",
    "y_test_class = (y_test_truth <= 30).astype(int)\n",
    "\n",
    "# print(y_test_class) - to check values"
   ]
  },
  {
   "cell_type": "code",
   "execution_count": 19,
   "id": "54b0fe0f-db58-4319-af7b-1ab6cd0accec",
   "metadata": {},
   "outputs": [
    {
     "name": "stdout",
     "output_type": "stream",
     "text": [
      "Test Results:\n",
      "Accuracy: 0.8900\n",
      "Precision: 0.8500\n",
      "Recall: 0.6800\n",
      "F1-Score: 0.7556\n",
      "Confusion Matrix:\n",
      "[[72  3]\n",
      " [ 8 17]]\n"
     ]
    }
   ],
   "source": [
    "from sklearn.ensemble import RandomForestClassifier\n",
    "from sklearn.metrics import accuracy_score, precision_score, recall_score, f1_score, confusion_matrix\n",
    "\n",
    "# Prepare features and labels\n",
    "X_train = train_features_scaled\n",
    "y_train = train_class_label\n",
    "\n",
    "# Initialise and train the Classifier\n",
    "rf_classifier = RandomForestClassifier(\n",
    "    n_estimators=100,\n",
    "    max_depth=7,\n",
    "    min_samples_leaf=7,\n",
    "    min_samples_split=2,\n",
    "    random_state=42,\n",
    "    class_weight=None\n",
    ")\n",
    "rf_classifier.fit(X_train, y_train)\n",
    "\n",
    "y_test_pred = rf_classifier.predict(test_features_scaled)\n",
    "\n",
    "# Evaluate the model\n",
    "print(\"Test Results:\")\n",
    "print(f\"Accuracy: {accuracy_score(y_test_class, y_test_pred):.4f}\")\n",
    "print(f\"Precision: {precision_score(y_test_class, y_test_pred):.4f}\")\n",
    "print(f\"Recall: {recall_score(y_test_class, y_test_pred):.4f}\")\n",
    "print(f\"F1-Score: {f1_score(y_test_class, y_test_pred):.4f}\")\n",
    "print(f\"Confusion Matrix:\\n{confusion_matrix(y_test_class, y_test_pred)}\")\n"
   ]
  },
  {
   "cell_type": "code",
   "execution_count": 20,
   "id": "e0851bdc-a570-40ee-baa5-7326757ce502",
   "metadata": {},
   "outputs": [
    {
     "data": {
      "image/png": "[encoded data removed]",
      "text/plain": [
       "<Figure size 800x600 with 2 Axes>"
      ]
     },
     "metadata": {},
     "output_type": "display_data"
    }
   ],
   "source": [
    "import seaborn as sns\n",
    "import matplotlib.pyplot as plt\n",
    "from sklearn.metrics import confusion_matrix\n",
    "\n",
    "# Generate the confusion matrix\n",
    "cm = confusion_matrix(y_test_class, y_test_pred)\n",
    "\n",
    "# Plot the confusion matrix\n",
    "plt.style.use('seaborn-v0_8-darkgrid')\n",
    "plt.figure(figsize=(8, 6))\n",
    "sns.heatmap(cm, annot=True, fmt='d', cmap='Blues', xticklabels=[\"Not Faulty\", \"Faulty\"], yticklabels=[\"Not Faulty\", \"Faulty\"])\n",
    "plt.title(\"Confusion Matrix\")\n",
    "plt.xlabel(\"Predicted\")\n",
    "plt.ylabel(\"Actual\")\n",
    "plt.show()\n"
   ]
  },
  {
   "cell_type": "code",
   "execution_count": 16,
   "id": "f6fee819-7c27-4083-bb3e-229f030bcfd6",
   "metadata": {},
   "outputs": [
    {
     "name": "stdout",
     "output_type": "stream",
     "text": [
      "Best Parameters: {'class_weight': None, 'max_depth': 7, 'min_samples_leaf': 7, 'min_samples_split': 2, 'n_estimators': 100}\n",
      "Best Recall: 0.7748387096774193\n",
      "\n",
      "Test Results with Best Parameters:\n",
      "Accuracy: 0.8900\n",
      "Precision: 0.8500\n",
      "Recall: 0.6800\n",
      "F1-Score: 0.7556\n"
     ]
    }
   ],
   "source": [
    "from sklearn.model_selection import GridSearchCV\n",
    "\n",
    "# Parameter grid\n",
    "param_grid = {\n",
    "    'n_estimators': [100],\n",
    "    'max_depth': [5, 7],\n",
    "    'min_samples_split': [2],\n",
    "    'min_samples_leaf': [3, 5, 7],\n",
    "    'class_weight': [None]\n",
    "}\n",
    "\n",
    "# Initialisation of Classifier\n",
    "rf_classifier = RandomForestClassifier(random_state=42)\n",
    "\n",
    "# Set up GridSearchCV\n",
    "grid_search = GridSearchCV(\n",
    "    estimator=rf_classifier,\n",
    "    param_grid=param_grid,\n",
    "    scoring='recall',  # Using recall as the evaluation metric\n",
    "    cv=5,\n",
    ")\n",
    "\n",
    "# Perform the grid search\n",
    "grid_search.fit(X_train, y_train)\n",
    "\n",
    "# Print the best parameters\n",
    "print(\"Best Parameters:\", grid_search.best_params_)\n",
    "print(\"Best Recall:\", grid_search.best_score_)\n",
    "\n",
    "# Update Predictions\n",
    "best_rf_classifier = grid_search.best_estimator_\n",
    "y_test_pred = best_rf_classifier.predict(test_features_scaled)"
   ]
  },
  {
   "cell_type": "code",
   "execution_count": null,
   "id": "d46f1924-2f90-4108-93c6-12ae92bbce49",
   "metadata": {},
   "outputs": [],
   "source": []
  }
 ],
 "metadata": {
  "kernelspec": {
   "display_name": "Python 3 (ipykernel)",
   "language": "python",
   "name": "python3"
  },
  "language_info": {
   "codemirror_mode": {
    "name": "ipython",
    "version": 3
   },
   "file_extension": ".py",
   "mimetype": "text/x-python",
   "name": "python",
   "nbconvert_exporter": "python",
   "pygments_lexer": "ipython3",
   "version": "3.12.7"
  }
 },
 "nbformat": 4,
 "nbformat_minor": 5
}
